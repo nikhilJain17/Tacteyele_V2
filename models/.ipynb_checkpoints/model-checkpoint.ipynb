{
 "cells": [
  {
   "cell_type": "code",
   "execution_count": 5,
   "metadata": {},
   "outputs": [],
   "source": [
    "import torch\n",
    "import torch.nn as nn\n",
    "import torchvision\n",
    "import torchvision.transforms as transforms\n",
    "from matplotlib import pyplot as plt\n",
    "import torch.optim as optim\n",
    "from torch.autograd import Variable\n",
    "from data_processor import EyeDataset\n",
    "from torch.nn.functional import log_softmax"
   ]
  },
  {
   "cell_type": "code",
   "execution_count": 6,
   "metadata": {},
   "outputs": [],
   "source": [
    "num_epochs = 10\n",
    "num_classes = 5\n",
    "learning_rate = 0.001"
   ]
  },
  {
   "cell_type": "markdown",
   "metadata": {},
   "source": [
    "### Load the data"
   ]
  },
  {
   "cell_type": "code",
   "execution_count": 7,
   "metadata": {},
   "outputs": [
    {
     "name": "stdout",
     "output_type": "stream",
     "text": [
      "490 training examples\n",
      "torch.Size([10]) torch.Size([3, 140, 250]) 0\n",
      "torch.Size([10]) torch.Size([3, 140, 250]) 1\n",
      "torch.Size([10]) torch.Size([3, 140, 250]) 2\n",
      "torch.Size([10]) torch.Size([3, 140, 250]) 3\n",
      "torch.Size([10]) torch.Size([3, 140, 250]) 4\n",
      "torch.Size([10]) torch.Size([3, 140, 250]) 5\n",
      "torch.Size([10]) torch.Size([3, 140, 250]) 6\n",
      "torch.Size([10]) torch.Size([3, 140, 250]) 7\n",
      "torch.Size([10]) torch.Size([3, 140, 250]) 8\n",
      "torch.Size([10]) torch.Size([3, 140, 250]) 9\n",
      "torch.Size([10]) torch.Size([3, 140, 250]) 10\n",
      "torch.Size([10]) torch.Size([3, 140, 250]) 11\n",
      "torch.Size([10]) torch.Size([3, 140, 250]) 12\n",
      "torch.Size([10]) torch.Size([3, 140, 250]) 13\n",
      "torch.Size([10]) torch.Size([3, 140, 250]) 14\n",
      "torch.Size([10]) torch.Size([3, 140, 250]) 15\n",
      "torch.Size([10]) torch.Size([3, 140, 250]) 16\n",
      "torch.Size([10]) torch.Size([3, 140, 250]) 17\n",
      "torch.Size([10]) torch.Size([3, 140, 250]) 18\n",
      "torch.Size([10]) torch.Size([3, 140, 250]) 19\n",
      "torch.Size([10]) torch.Size([3, 140, 250]) 20\n",
      "torch.Size([10]) torch.Size([3, 140, 250]) 21\n",
      "torch.Size([10]) torch.Size([3, 140, 250]) 22\n",
      "torch.Size([10]) torch.Size([3, 140, 250]) 23\n",
      "torch.Size([10]) torch.Size([3, 140, 250]) 24\n",
      "torch.Size([10]) torch.Size([3, 140, 250]) 25\n",
      "torch.Size([10]) torch.Size([3, 140, 250]) 26\n",
      "torch.Size([10]) torch.Size([3, 140, 250]) 27\n",
      "torch.Size([10]) torch.Size([3, 140, 250]) 28\n",
      "torch.Size([10]) torch.Size([3, 140, 250]) 29\n",
      "torch.Size([10]) torch.Size([3, 140, 250]) 30\n",
      "torch.Size([10]) torch.Size([3, 140, 250]) 31\n",
      "torch.Size([10]) torch.Size([3, 140, 250]) 32\n",
      "torch.Size([10]) torch.Size([3, 140, 250]) 33\n",
      "torch.Size([10]) torch.Size([3, 140, 250]) 34\n",
      "torch.Size([10]) torch.Size([3, 140, 250]) 35\n",
      "torch.Size([10]) torch.Size([3, 140, 250]) 36\n",
      "torch.Size([10]) torch.Size([3, 140, 250]) 37\n",
      "torch.Size([10]) torch.Size([3, 140, 250]) 38\n",
      "torch.Size([10]) torch.Size([3, 140, 250]) 39\n",
      "torch.Size([10]) torch.Size([3, 140, 250]) 40\n",
      "torch.Size([10]) torch.Size([3, 140, 250]) 41\n",
      "torch.Size([10]) torch.Size([3, 140, 250]) 42\n",
      "torch.Size([10]) torch.Size([3, 140, 250]) 43\n",
      "torch.Size([10]) torch.Size([3, 140, 250]) 44\n",
      "torch.Size([10]) torch.Size([3, 140, 250]) 45\n",
      "torch.Size([10]) torch.Size([3, 140, 250]) 46\n",
      "torch.Size([10]) torch.Size([3, 140, 250]) 47\n",
      "torch.Size([10]) torch.Size([3, 140, 250]) 48\n"
     ]
    }
   ],
   "source": [
    "eye_dataset = EyeDataset('../classification_data/dataset/train')\n",
    "print(len(eye_dataset), 'training examples')\n",
    "\n",
    "data_loader = torch.utils.data.DataLoader(dataset=eye_dataset, batch_size=10, shuffle=True)\n",
    "\n",
    "index = 0\n",
    "for img, label in data_loader:\n",
    "    print(label.shape, img[0].shape, index)\n",
    "    index += 1"
   ]
  },
  {
   "cell_type": "markdown",
   "metadata": {},
   "source": [
    "## Todo: Data Augmentation"
   ]
  },
  {
   "cell_type": "code",
   "execution_count": null,
   "metadata": {},
   "outputs": [],
   "source": []
  },
  {
   "cell_type": "markdown",
   "metadata": {},
   "source": [
    "### Define the model (add batch norm, dropout, etc later)"
   ]
  },
  {
   "cell_type": "code",
   "execution_count": 8,
   "metadata": {},
   "outputs": [],
   "source": [
    "class ConvNet(nn.Module):\n",
    "    def __init__(self):\n",
    "        super(ConvNet, self).__init__()\n",
    "        \n",
    "        NUM_CLASSES = 5\n",
    "        \n",
    "        # input shape: [3, 140, 250]\n",
    "        # conv --> relu\n",
    "        \n",
    "        self.conv1 = nn.Conv2d(in_channels=3, out_channels=16, kernel_size=(5, 5), stride=1, padding=0)\n",
    "        self.relu1 = nn.ReLU()\n",
    "        self.pool1 = nn.MaxPool2d(kernel_size=2)\n",
    "\n",
    "\n",
    "        \n",
    "        \n",
    "        # input shape: [16, 140, 250]\n",
    "        # conv --> relu --> max pool\n",
    "        \n",
    "        self.conv2 = nn.Conv2d(in_channels=16, out_channels=16, kernel_size=(5, 5), stride=1, padding=0)\n",
    "        self.relu2 = nn.ReLU()\n",
    "        self.pool2 = nn.MaxPool2d(kernel_size=2)\n",
    "\n",
    "        \n",
    "        # input shape: [16, 70, 125]\n",
    "        # conv --> relu --> max pool\n",
    "#         self.conv3 = nn.Conv2d(in_channels=16, out_channels=16, kernel_size=(5,5), stride=1, padding=0)\n",
    "#         self.relu3 = nn.ReLU()\n",
    "#         self.pool2 = nn.MaxPool2d(kernel_size=5)\n",
    "        \n",
    "        # input shape: [16, 14, 25]\n",
    "        self.linear = nn.Linear(30208, NUM_CLASSES)\n",
    "        # minibatch size = 10\n",
    "#         self.output = nn.Linear(10, 1)\n",
    "        \n",
    "    def forward(self, x):\n",
    "\n",
    "#         print(x.shape)\n",
    "        x = self.conv1(x)\n",
    "#         print(x.shape)\n",
    "        x = self.relu1(x)\n",
    "#         print(x.shape)\n",
    "        x = self.pool1(x)\n",
    "#         print(x.shape)\n",
    "\n",
    "        \n",
    "        x = self.conv2(x)\n",
    "#         print(x.shape)\n",
    "        x = self.relu2(x)\n",
    "#         print(x.shape)\n",
    "        x = self.pool2(x)\n",
    "#         print(x.shape)\n",
    "        \n",
    "        \n",
    "        # flatten\n",
    "        x = x.view(x.shape[0], -1)\n",
    "#         print(x.shape)\n",
    "        output = self.linear(x)\n",
    "#         print(output.shape)\n",
    "        \n",
    "        return output"
   ]
  },
  {
   "cell_type": "code",
   "execution_count": 13,
   "metadata": {},
   "outputs": [
    {
     "name": "stdout",
     "output_type": "stream",
     "text": [
      "ConvNet(\n",
      "  (conv1): Conv2d(3, 16, kernel_size=(5, 5), stride=(1, 1))\n",
      "  (relu1): ReLU()\n",
      "  (pool1): MaxPool2d(kernel_size=2, stride=2, padding=0, dilation=1, ceil_mode=False)\n",
      "  (conv2): Conv2d(16, 16, kernel_size=(5, 5), stride=(1, 1))\n",
      "  (relu2): ReLU()\n",
      "  (pool2): MaxPool2d(kernel_size=2, stride=2, padding=0, dilation=1, ceil_mode=False)\n",
      "  (linear): Linear(in_features=30208, out_features=5, bias=True)\n",
      ")\n"
     ]
    }
   ],
   "source": [
    "model = ConvNet()\n",
    "print(model)"
   ]
  },
  {
   "cell_type": "markdown",
   "metadata": {},
   "source": [
    "### Experiment with different optimizers"
   ]
  },
  {
   "cell_type": "code",
   "execution_count": 14,
   "metadata": {},
   "outputs": [],
   "source": [
    "LR = 0.001\n",
    "optimizer = optim.SGD(model.parameters(), lr=0.001, momentum=0.9)\n",
    "criterion = nn.CrossEntropyLoss()"
   ]
  },
  {
   "cell_type": "markdown",
   "metadata": {},
   "source": [
    "### Train and Test"
   ]
  },
  {
   "cell_type": "code",
   "execution_count": 15,
   "metadata": {},
   "outputs": [
    {
     "name": "stdout",
     "output_type": "stream",
     "text": [
      "Epoch [1/5], Step [10/49], Loss: 1.4434\n",
      "Epoch [1/5], Step [20/49], Loss: 1.2223\n",
      "Epoch [1/5], Step [30/49], Loss: 1.0904\n",
      "Epoch [1/5], Step [40/49], Loss: 0.4144\n",
      "Epoch [2/5], Step [10/49], Loss: 0.0357\n",
      "Epoch [2/5], Step [20/49], Loss: 0.9758\n",
      "Epoch [2/5], Step [30/49], Loss: 0.2254\n",
      "Epoch [2/5], Step [40/49], Loss: 0.0302\n",
      "Epoch [3/5], Step [10/49], Loss: 0.0174\n",
      "Epoch [3/5], Step [20/49], Loss: 0.0490\n",
      "Epoch [3/5], Step [30/49], Loss: 0.5995\n",
      "Epoch [3/5], Step [40/49], Loss: 0.5001\n",
      "Epoch [4/5], Step [10/49], Loss: 0.1293\n",
      "Epoch [4/5], Step [20/49], Loss: 0.0249\n",
      "Epoch [4/5], Step [30/49], Loss: 0.0412\n",
      "Epoch [4/5], Step [40/49], Loss: 0.0305\n",
      "Epoch [5/5], Step [10/49], Loss: 0.0415\n",
      "Epoch [5/5], Step [20/49], Loss: 0.1034\n",
      "Epoch [5/5], Step [30/49], Loss: 0.0475\n",
      "Epoch [5/5], Step [40/49], Loss: 0.0019\n"
     ]
    },
    {
     "data": {
      "image/png": "[encoded data removed]",
      "text/plain": [
       "<Figure size 432x288 with 1 Axes>"
      ]
     },
     "metadata": {},
     "output_type": "display_data"
    }
   ],
   "source": [
    "# Train the model\n",
    "total_step = len(data_loader)\n",
    "\n",
    "num_epochs = 5\n",
    "\n",
    "for epoch in range(num_epochs):\n",
    "    for i, (images, labels) in enumerate(data_loader):\n",
    "        \n",
    "        # Forward pass\n",
    "        outputs = model(images)\n",
    "        loss = criterion(outputs, labels)\n",
    "        \n",
    "        # Backward and optimize\n",
    "        optimizer.zero_grad()\n",
    "        loss.backward()\n",
    "        optimizer.step()\n",
    "\n",
    "        plt.scatter(i, loss.item())\n",
    "        \n",
    "        if (i+1) % 10 == 0:\n",
    "            print ('Epoch [{}/{}], Step [{}/{}], Loss: {:.4f}' \n",
    "                   .format(epoch+1, num_epochs, i+1, total_step, loss.item()))\n",
    "\n",
    "plt.show()"
   ]
  },
  {
   "cell_type": "markdown",
   "metadata": {},
   "source": [
    "### Test the model"
   ]
  },
  {
   "cell_type": "code",
   "execution_count": 16,
   "metadata": {},
   "outputs": [
    {
     "name": "stdout",
     "output_type": "stream",
     "text": [
      "10 10 1.0\n",
      "20 20 1.0\n",
      "30 30 1.0\n",
      "40 40 1.0\n",
      "50 50 1.0\n",
      "60 60 1.0\n",
      "70 70 1.0\n",
      "79 80 0.9875\n",
      "89 90 0.9888888888888889\n",
      "99 100 0.99\n",
      "109 110 0.990909090909091\n",
      "119 120 0.9916666666666667\n",
      "129 130 0.9923076923076923\n",
      "139 140 0.9928571428571429\n",
      "149 150 0.9933333333333333\n",
      "159 160 0.99375\n",
      "169 170 0.9941176470588236\n",
      "179 180 0.9944444444444445\n",
      "189 190 0.9947368421052631\n",
      "199 200 0.995\n",
      "209 210 0.9952380952380953\n",
      "219 220 0.9954545454545455\n",
      "229 230 0.9956521739130435\n",
      "239 240 0.9958333333333333\n",
      "248 250 0.992\n",
      "258 260 0.9923076923076923\n",
      "268 270 0.9925925925925926\n",
      "278 280 0.9928571428571429\n",
      "288 290 0.993103448275862\n",
      "298 300 0.9933333333333333\n",
      "308 310 0.9935483870967742\n",
      "318 320 0.99375\n",
      "328 330 0.9939393939393939\n",
      "338 340 0.9941176470588236\n",
      "348 350 0.9942857142857143\n",
      "358 360 0.9944444444444445\n",
      "368 370 0.9945945945945946\n",
      "378 380 0.9947368421052631\n",
      "388 390 0.9948717948717949\n",
      "398 400 0.995\n",
      "408 410 0.9951219512195122\n",
      "417 420 0.9928571428571429\n",
      "427 430 0.9930232558139535\n",
      "436 440 0.990909090909091\n",
      "446 450 0.9911111111111112\n",
      "456 460 0.991304347826087\n",
      "466 470 0.9914893617021276\n",
      "476 480 0.9916666666666667\n",
      "486 490 0.9918367346938776\n"
     ]
    },
    {
     "data": {
      "image/png": "[encoded data removed]",
      "text/plain": [
       "<Figure size 432x288 with 1 Axes>"
      ]
     },
     "metadata": {},
     "output_type": "display_data"
    }
   ],
   "source": [
    "# Test the model\n",
    "test_dataset = EyeDataset('../classification_data/dataset/validation')\n",
    "test_loader = torch.utils.data.DataLoader(dataset=test_dataset, batch_size=10, shuffle=True)\n",
    "\n",
    "\n",
    "model.eval()  # eval mode (batchnorm uses moving mean/variance instead of mini-batch mean/variance)\n",
    "with torch.no_grad():\n",
    "    correct = 0\n",
    "    total = 0\n",
    "    \n",
    "    for i, (images, labels) in enumerate(data_loader):\n",
    "        outputs = model(images)\n",
    "        _, predicted = torch.max(outputs.data, 1)\n",
    "        total += labels.size(0)\n",
    "        correct += (predicted == labels).sum().item()\n",
    "        \n",
    "        print(correct, total, correct / total)\n",
    "        plt.scatter(i, correct / total)\n",
    "        \n",
    "    plt.show()\n"
   ]
  },
  {
   "cell_type": "code",
   "execution_count": null,
   "metadata": {},
   "outputs": [],
   "source": []
  }
 ],
 "metadata": {
  "kernelspec": {
   "display_name": "Python 3",
   "language": "python",
   "name": "python3"
  },
  "language_info": {
   "codemirror_mode": {
    "name": "ipython",
    "version": 3
   },
   "file_extension": ".py",
   "mimetype": "text/x-python",
   "name": "python",
   "nbconvert_exporter": "python",
   "pygments_lexer": "ipython3",
   "version": "3.6.5"
  }
 },
 "nbformat": 4,
 "nbformat_minor": 2
}
